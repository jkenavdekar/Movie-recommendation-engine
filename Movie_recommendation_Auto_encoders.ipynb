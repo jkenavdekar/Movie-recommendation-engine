{
  "nbformat": 4,
  "nbformat_minor": 0,
  "metadata": {
    "colab": {
      "name": "Movie recommendation Auto encoders.ipynb",
      "provenance": [],
      "collapsed_sections": []
    },
    "kernelspec": {
      "name": "python3",
      "display_name": "Python 3"
    },
    "language_info": {
      "name": "python"
    }
  },
  "cells": [
    {
      "cell_type": "code",
      "metadata": {
        "colab": {
          "base_uri": "https://localhost:8080/"
        },
        "id": "AYOIkCgJklPn",
        "outputId": "20c4d376-0263-43e1-9b20-0c512e0fcba1"
      },
      "source": [
        "from google.colab import drive\n",
        "drive.mount('/content/drive')"
      ],
      "execution_count": null,
      "outputs": [
        {
          "output_type": "stream",
          "text": [
            "Mounted at /content/drive\n"
          ],
          "name": "stdout"
        }
      ]
    },
    {
      "cell_type": "code",
      "metadata": {
        "colab": {
          "base_uri": "https://localhost:8080/"
        },
        "id": "-WtZHP2kk1Eb",
        "outputId": "6c11051c-a1fd-46bf-82e6-031d59c645c2"
      },
      "source": [
        "%cd /content/drive/My Drive/Colab Notebooks/"
      ],
      "execution_count": null,
      "outputs": [
        {
          "output_type": "stream",
          "text": [
            "/content/drive/My Drive/Colab Notebooks\n"
          ],
          "name": "stdout"
        }
      ]
    },
    {
      "cell_type": "code",
      "metadata": {
        "id": "UhBVaRzSk9yU"
      },
      "source": [
        "import numpy as np\n",
        "import pandas as pd\n",
        "import torch\n",
        "import torch.nn as nn\n",
        "import torch.nn.parallel\n",
        "import torch.optim as optim\n",
        "import torch.utils.data\n",
        "from torch.autograd import Variable"
      ],
      "execution_count": null,
      "outputs": []
    },
    {
      "cell_type": "code",
      "metadata": {
        "id": "99ZNiT_1lfi8"
      },
      "source": [
        "\"\"\"## Importing the dataset\"\"\"\n",
        "\n",
        "# We won't be using this dataset.\n",
        "movies = pd.read_csv('ml-1m/movies.dat', sep = '::', header = None, engine = 'python', encoding = 'latin-1')\n",
        "users = pd.read_csv('ml-1m/users.dat', sep = '::', header = None, engine = 'python', encoding = 'latin-1')\n",
        "ratings = pd.read_csv('ml-1m/ratings.dat', sep = '::', header = None, engine = 'python', encoding = 'latin-1')"
      ],
      "execution_count": null,
      "outputs": []
    },
    {
      "cell_type": "code",
      "metadata": {
        "id": "4Ml2Ir2Mo9n7",
        "colab": {
          "base_uri": "https://localhost:8080/",
          "height": 203
        },
        "outputId": "df8bc3b6-b6f6-46b2-81fe-ce8ff916c9ba"
      },
      "source": [
        "movies.head()"
      ],
      "execution_count": null,
      "outputs": [
        {
          "output_type": "execute_result",
          "data": {
            "text/html": [
              "<div>\n",
              "<style scoped>\n",
              "    .dataframe tbody tr th:only-of-type {\n",
              "        vertical-align: middle;\n",
              "    }\n",
              "\n",
              "    .dataframe tbody tr th {\n",
              "        vertical-align: top;\n",
              "    }\n",
              "\n",
              "    .dataframe thead th {\n",
              "        text-align: right;\n",
              "    }\n",
              "</style>\n",
              "<table border=\"1\" class=\"dataframe\">\n",
              "  <thead>\n",
              "    <tr style=\"text-align: right;\">\n",
              "      <th></th>\n",
              "      <th>0</th>\n",
              "      <th>1</th>\n",
              "      <th>2</th>\n",
              "    </tr>\n",
              "  </thead>\n",
              "  <tbody>\n",
              "    <tr>\n",
              "      <th>0</th>\n",
              "      <td>1</td>\n",
              "      <td>Toy Story (1995)</td>\n",
              "      <td>Animation|Children's|Comedy</td>\n",
              "    </tr>\n",
              "    <tr>\n",
              "      <th>1</th>\n",
              "      <td>2</td>\n",
              "      <td>Jumanji (1995)</td>\n",
              "      <td>Adventure|Children's|Fantasy</td>\n",
              "    </tr>\n",
              "    <tr>\n",
              "      <th>2</th>\n",
              "      <td>3</td>\n",
              "      <td>Grumpier Old Men (1995)</td>\n",
              "      <td>Comedy|Romance</td>\n",
              "    </tr>\n",
              "    <tr>\n",
              "      <th>3</th>\n",
              "      <td>4</td>\n",
              "      <td>Waiting to Exhale (1995)</td>\n",
              "      <td>Comedy|Drama</td>\n",
              "    </tr>\n",
              "    <tr>\n",
              "      <th>4</th>\n",
              "      <td>5</td>\n",
              "      <td>Father of the Bride Part II (1995)</td>\n",
              "      <td>Comedy</td>\n",
              "    </tr>\n",
              "  </tbody>\n",
              "</table>\n",
              "</div>"
            ],
            "text/plain": [
              "   0                                   1                             2\n",
              "0  1                    Toy Story (1995)   Animation|Children's|Comedy\n",
              "1  2                      Jumanji (1995)  Adventure|Children's|Fantasy\n",
              "2  3             Grumpier Old Men (1995)                Comedy|Romance\n",
              "3  4            Waiting to Exhale (1995)                  Comedy|Drama\n",
              "4  5  Father of the Bride Part II (1995)                        Comedy"
            ]
          },
          "metadata": {
            "tags": []
          },
          "execution_count": 5
        }
      ]
    },
    {
      "cell_type": "code",
      "metadata": {
        "id": "m-te1qPLPQNN"
      },
      "source": [
        "#index0 = Users, index1=Movies, index2=movie ratings"
      ],
      "execution_count": null,
      "outputs": []
    },
    {
      "cell_type": "code",
      "metadata": {
        "colab": {
          "base_uri": "https://localhost:8080/",
          "height": 203
        },
        "id": "RRnAkh1iPKnN",
        "outputId": "1d979d04-a1f7-444c-a724-2cde5ebc36aa"
      },
      "source": [
        "ratings.head()"
      ],
      "execution_count": null,
      "outputs": [
        {
          "output_type": "execute_result",
          "data": {
            "text/html": [
              "<div>\n",
              "<style scoped>\n",
              "    .dataframe tbody tr th:only-of-type {\n",
              "        vertical-align: middle;\n",
              "    }\n",
              "\n",
              "    .dataframe tbody tr th {\n",
              "        vertical-align: top;\n",
              "    }\n",
              "\n",
              "    .dataframe thead th {\n",
              "        text-align: right;\n",
              "    }\n",
              "</style>\n",
              "<table border=\"1\" class=\"dataframe\">\n",
              "  <thead>\n",
              "    <tr style=\"text-align: right;\">\n",
              "      <th></th>\n",
              "      <th>0</th>\n",
              "      <th>1</th>\n",
              "      <th>2</th>\n",
              "      <th>3</th>\n",
              "    </tr>\n",
              "  </thead>\n",
              "  <tbody>\n",
              "    <tr>\n",
              "      <th>0</th>\n",
              "      <td>1</td>\n",
              "      <td>1193</td>\n",
              "      <td>5</td>\n",
              "      <td>978300760</td>\n",
              "    </tr>\n",
              "    <tr>\n",
              "      <th>1</th>\n",
              "      <td>1</td>\n",
              "      <td>661</td>\n",
              "      <td>3</td>\n",
              "      <td>978302109</td>\n",
              "    </tr>\n",
              "    <tr>\n",
              "      <th>2</th>\n",
              "      <td>1</td>\n",
              "      <td>914</td>\n",
              "      <td>3</td>\n",
              "      <td>978301968</td>\n",
              "    </tr>\n",
              "    <tr>\n",
              "      <th>3</th>\n",
              "      <td>1</td>\n",
              "      <td>3408</td>\n",
              "      <td>4</td>\n",
              "      <td>978300275</td>\n",
              "    </tr>\n",
              "    <tr>\n",
              "      <th>4</th>\n",
              "      <td>1</td>\n",
              "      <td>2355</td>\n",
              "      <td>5</td>\n",
              "      <td>978824291</td>\n",
              "    </tr>\n",
              "  </tbody>\n",
              "</table>\n",
              "</div>"
            ],
            "text/plain": [
              "   0     1  2          3\n",
              "0  1  1193  5  978300760\n",
              "1  1   661  3  978302109\n",
              "2  1   914  3  978301968\n",
              "3  1  3408  4  978300275\n",
              "4  1  2355  5  978824291"
            ]
          },
          "metadata": {
            "tags": []
          },
          "execution_count": 6
        }
      ]
    },
    {
      "cell_type": "code",
      "metadata": {
        "id": "CJN1dJ-Bor41"
      },
      "source": [
        "\n",
        "\"\"\"## Preparing the training set and the test set\"\"\"\n",
        "\n",
        "training_set = pd.read_csv('ml-100k/u1.base', delimiter = '\\t')\n",
        "training_set = np.array(training_set, dtype = 'int')\n",
        "test_set = pd.read_csv('ml-100k/u1.test', delimiter = '\\t')\n",
        "test_set = np.array(test_set, dtype = 'int')"
      ],
      "execution_count": null,
      "outputs": []
    },
    {
      "cell_type": "code",
      "metadata": {
        "colab": {
          "base_uri": "https://localhost:8080/"
        },
        "id": "ZPlbMBakHzC-",
        "outputId": "977de90f-0bb6-40fc-c104-12a3ee01213d"
      },
      "source": [
        "training_set"
      ],
      "execution_count": null,
      "outputs": [
        {
          "output_type": "execute_result",
          "data": {
            "text/plain": [
              "array([[        1,         2,         3, 876893171],\n",
              "       [        1,         3,         4, 878542960],\n",
              "       [        1,         4,         3, 876893119],\n",
              "       ...,\n",
              "       [      943,      1188,         3, 888640250],\n",
              "       [      943,      1228,         3, 888640275],\n",
              "       [      943,      1330,         3, 888692465]])"
            ]
          },
          "metadata": {
            "tags": []
          },
          "execution_count": 14
        }
      ]
    },
    {
      "cell_type": "code",
      "metadata": {
        "id": "1BKtrPw0HmkN"
      },
      "source": [
        "\"\"\"## Getting the number of users and movies\"\"\"\n",
        "\n",
        "nb_users = int(max(max(training_set[:, 0], ), max(test_set[:, 0])))\n",
        "nb_movies = int(max(max(training_set[:, 1], ), max(test_set[:, 1])))"
      ],
      "execution_count": null,
      "outputs": []
    },
    {
      "cell_type": "code",
      "metadata": {
        "id": "-0cmgxyyIsJW"
      },
      "source": [
        "\n",
        "def convert(data):\n",
        "  new_data = []\n",
        "  for id_users in range(1, nb_users + 1):\n",
        "    id_movies = data[:, 1] [data[:, 0] == id_users]\n",
        "    id_ratings = data[:, 2] [data[:, 0] == id_users]\n",
        "    ratings = np.zeros(nb_movies)\n",
        "    ratings[id_movies - 1] = id_ratings\n",
        "    new_data.append(list(ratings))\n",
        "  return new_data\n",
        "training_set = convert(training_set)\n",
        "test_set = convert(test_set)\n"
      ],
      "execution_count": null,
      "outputs": []
    },
    {
      "cell_type": "code",
      "metadata": {
        "id": "dK7q7pGoJB_l"
      },
      "source": [
        "\n",
        "\"\"\"## Converting the data into Torch tensors\"\"\"\n",
        "\n",
        "training_set = torch.FloatTensor(training_set)\n",
        "test_set = torch.FloatTensor(test_set)"
      ],
      "execution_count": null,
      "outputs": []
    },
    {
      "cell_type": "code",
      "metadata": {
        "id": "5mp0KcoGJGMn"
      },
      "source": [
        "\n",
        "\"\"\"## Creating the architecture of the Neural Network\"\"\"\n",
        "\n",
        "class SAE(nn.Module):\n",
        "    def __init__(self, ):\n",
        "        super(SAE, self).__init__()\n",
        "        self.fc1 = nn.Linear(nb_movies, 20)\n",
        "        self.fc2 = nn.Linear(20, 10)\n",
        "        self.fc3 = nn.Linear(10, 20)\n",
        "        self.fc4 = nn.Linear(20, nb_movies)\n",
        "        self.activation = nn.Sigmoid()\n",
        "    def forward(self, x):\n",
        "        x = self.activation(self.fc1(x))\n",
        "        x = self.activation(self.fc2(x))\n",
        "        x = self.activation(self.fc3(x))\n",
        "        x = self.fc4(x)\n",
        "        return x\n",
        "sae = SAE()\n",
        "criterion = nn.MSELoss()\n",
        "optimizer = optim.RMSprop(sae.parameters(), lr = 0.01, weight_decay = 0.5)"
      ],
      "execution_count": null,
      "outputs": []
    },
    {
      "cell_type": "code",
      "metadata": {
        "colab": {
          "base_uri": "https://localhost:8080/"
        },
        "id": "9xYcTvaBCUeJ",
        "outputId": "5ac28146-468f-4b9f-d60d-88027cf950da"
      },
      "source": [
        "\"\"\"## Training the SAE\"\"\"\n",
        "\n",
        "nb_epoch = 200\n",
        "for epoch in range(1, nb_epoch + 1):\n",
        "  train_loss = 0\n",
        "  s = 0.\n",
        "  for id_user in range(nb_users):\n",
        "    input = Variable(training_set[id_user]).unsqueeze(0)\n",
        "    target = input.clone()\n",
        "    if torch.sum(target.data > 0) > 0:\n",
        "      output = sae(input)\n",
        "      target.require_grad = False\n",
        "      output[target == 0] = 0\n",
        "      loss = criterion(output, target)\n",
        "      mean_corrector = nb_movies/float(torch.sum(target.data > 0) + 1e-10)\n",
        "      loss.backward()\n",
        "      train_loss += np.sqrt(loss.data*mean_corrector)\n",
        "      s += 1.\n",
        "      optimizer.step()\n",
        "  print('epoch: '+str(epoch)+'loss: '+ str(train_loss/s))"
      ],
      "execution_count": null,
      "outputs": [
        {
          "output_type": "stream",
          "text": [
            "epoch: 1loss: tensor(1.7714)\n",
            "epoch: 2loss: tensor(1.0967)\n",
            "epoch: 3loss: tensor(1.0532)\n",
            "epoch: 4loss: tensor(1.0383)\n",
            "epoch: 5loss: tensor(1.0305)\n",
            "epoch: 6loss: tensor(1.0267)\n",
            "epoch: 7loss: tensor(1.0237)\n",
            "epoch: 8loss: tensor(1.0217)\n",
            "epoch: 9loss: tensor(1.0206)\n",
            "epoch: 10loss: tensor(1.0198)\n",
            "epoch: 11loss: tensor(1.0187)\n",
            "epoch: 12loss: tensor(1.0184)\n",
            "epoch: 13loss: tensor(1.0178)\n",
            "epoch: 14loss: tensor(1.0176)\n",
            "epoch: 15loss: tensor(1.0171)\n",
            "epoch: 16loss: tensor(1.0168)\n",
            "epoch: 17loss: tensor(1.0165)\n",
            "epoch: 18loss: tensor(1.0165)\n",
            "epoch: 19loss: tensor(1.0162)\n",
            "epoch: 20loss: tensor(1.0162)\n",
            "epoch: 21loss: tensor(1.0158)\n",
            "epoch: 22loss: tensor(1.0160)\n",
            "epoch: 23loss: tensor(1.0158)\n",
            "epoch: 24loss: tensor(1.0159)\n",
            "epoch: 25loss: tensor(1.0155)\n",
            "epoch: 26loss: tensor(1.0158)\n",
            "epoch: 27loss: tensor(1.0153)\n",
            "epoch: 28loss: tensor(1.0151)\n",
            "epoch: 29loss: tensor(1.0139)\n",
            "epoch: 30loss: tensor(1.0119)\n",
            "epoch: 31loss: tensor(1.0098)\n",
            "epoch: 32loss: tensor(1.0087)\n",
            "epoch: 33loss: tensor(1.0057)\n",
            "epoch: 34loss: tensor(1.0051)\n",
            "epoch: 35loss: tensor(1.0018)\n",
            "epoch: 36loss: tensor(1.0010)\n",
            "epoch: 37loss: tensor(0.9972)\n",
            "epoch: 38loss: tensor(0.9958)\n",
            "epoch: 39loss: tensor(0.9946)\n",
            "epoch: 40loss: tensor(0.9949)\n",
            "epoch: 41loss: tensor(0.9914)\n",
            "epoch: 42loss: tensor(0.9904)\n",
            "epoch: 43loss: tensor(0.9853)\n",
            "epoch: 44loss: tensor(0.9911)\n",
            "epoch: 45loss: tensor(0.9875)\n",
            "epoch: 46loss: tensor(0.9894)\n",
            "epoch: 47loss: tensor(0.9834)\n",
            "epoch: 48loss: tensor(0.9837)\n",
            "epoch: 49loss: tensor(0.9812)\n",
            "epoch: 50loss: tensor(0.9803)\n",
            "epoch: 51loss: tensor(0.9769)\n",
            "epoch: 52loss: tensor(0.9775)\n",
            "epoch: 53loss: tensor(0.9731)\n",
            "epoch: 54loss: tensor(0.9712)\n",
            "epoch: 55loss: tensor(0.9686)\n",
            "epoch: 56loss: tensor(0.9743)\n",
            "epoch: 57loss: tensor(0.9671)\n",
            "epoch: 58loss: tensor(0.9673)\n",
            "epoch: 59loss: tensor(0.9660)\n",
            "epoch: 60loss: tensor(0.9712)\n",
            "epoch: 61loss: tensor(0.9642)\n",
            "epoch: 62loss: tensor(0.9638)\n",
            "epoch: 63loss: tensor(0.9649)\n",
            "epoch: 64loss: tensor(0.9591)\n",
            "epoch: 65loss: tensor(0.9574)\n",
            "epoch: 66loss: tensor(0.9570)\n",
            "epoch: 67loss: tensor(0.9573)\n",
            "epoch: 68loss: tensor(0.9590)\n",
            "epoch: 69loss: tensor(0.9558)\n",
            "epoch: 70loss: tensor(0.9545)\n",
            "epoch: 71loss: tensor(0.9521)\n",
            "epoch: 72loss: tensor(0.9514)\n",
            "epoch: 73loss: tensor(0.9500)\n",
            "epoch: 74loss: tensor(0.9494)\n",
            "epoch: 75loss: tensor(0.9475)\n",
            "epoch: 76loss: tensor(0.9479)\n",
            "epoch: 77loss: tensor(0.9462)\n",
            "epoch: 78loss: tensor(0.9466)\n",
            "epoch: 79loss: tensor(0.9436)\n",
            "epoch: 80loss: tensor(0.9440)\n",
            "epoch: 81loss: tensor(0.9429)\n",
            "epoch: 82loss: tensor(0.9432)\n",
            "epoch: 83loss: tensor(0.9417)\n",
            "epoch: 84loss: tensor(0.9421)\n",
            "epoch: 85loss: tensor(0.9401)\n",
            "epoch: 86loss: tensor(0.9409)\n",
            "epoch: 87loss: tensor(0.9393)\n",
            "epoch: 88loss: tensor(0.9400)\n",
            "epoch: 89loss: tensor(0.9385)\n",
            "epoch: 90loss: tensor(0.9397)\n",
            "epoch: 91loss: tensor(0.9369)\n",
            "epoch: 92loss: tensor(0.9380)\n",
            "epoch: 93loss: tensor(0.9361)\n",
            "epoch: 94loss: tensor(0.9375)\n",
            "epoch: 95loss: tensor(0.9360)\n",
            "epoch: 96loss: tensor(0.9366)\n",
            "epoch: 97loss: tensor(0.9347)\n",
            "epoch: 98loss: tensor(0.9363)\n",
            "epoch: 99loss: tensor(0.9340)\n",
            "epoch: 100loss: tensor(0.9350)\n",
            "epoch: 101loss: tensor(0.9331)\n",
            "epoch: 102loss: tensor(0.9337)\n",
            "epoch: 103loss: tensor(0.9323)\n",
            "epoch: 104loss: tensor(0.9335)\n",
            "epoch: 105loss: tensor(0.9316)\n",
            "epoch: 106loss: tensor(0.9324)\n",
            "epoch: 107loss: tensor(0.9313)\n",
            "epoch: 108loss: tensor(0.9317)\n",
            "epoch: 109loss: tensor(0.9308)\n",
            "epoch: 110loss: tensor(0.9310)\n",
            "epoch: 111loss: tensor(0.9298)\n",
            "epoch: 112loss: tensor(0.9302)\n",
            "epoch: 113loss: tensor(0.9293)\n",
            "epoch: 114loss: tensor(0.9308)\n",
            "epoch: 115loss: tensor(0.9289)\n",
            "epoch: 116loss: tensor(0.9298)\n",
            "epoch: 117loss: tensor(0.9286)\n",
            "epoch: 118loss: tensor(0.9295)\n",
            "epoch: 119loss: tensor(0.9279)\n",
            "epoch: 120loss: tensor(0.9286)\n",
            "epoch: 121loss: tensor(0.9273)\n",
            "epoch: 122loss: tensor(0.9281)\n",
            "epoch: 123loss: tensor(0.9266)\n",
            "epoch: 124loss: tensor(0.9275)\n",
            "epoch: 125loss: tensor(0.9261)\n",
            "epoch: 126loss: tensor(0.9268)\n",
            "epoch: 127loss: tensor(0.9255)\n",
            "epoch: 128loss: tensor(0.9265)\n",
            "epoch: 129loss: tensor(0.9250)\n",
            "epoch: 130loss: tensor(0.9259)\n",
            "epoch: 131loss: tensor(0.9246)\n",
            "epoch: 132loss: tensor(0.9253)\n",
            "epoch: 133loss: tensor(0.9237)\n",
            "epoch: 134loss: tensor(0.9247)\n",
            "epoch: 135loss: tensor(0.9241)\n",
            "epoch: 136loss: tensor(0.9244)\n",
            "epoch: 137loss: tensor(0.9232)\n",
            "epoch: 138loss: tensor(0.9239)\n",
            "epoch: 139loss: tensor(0.9228)\n",
            "epoch: 140loss: tensor(0.9233)\n",
            "epoch: 141loss: tensor(0.9222)\n",
            "epoch: 142loss: tensor(0.9230)\n",
            "epoch: 143loss: tensor(0.9217)\n",
            "epoch: 144loss: tensor(0.9225)\n",
            "epoch: 145loss: tensor(0.9215)\n",
            "epoch: 146loss: tensor(0.9220)\n",
            "epoch: 147loss: tensor(0.9208)\n",
            "epoch: 148loss: tensor(0.9215)\n",
            "epoch: 149loss: tensor(0.9202)\n",
            "epoch: 150loss: tensor(0.9211)\n",
            "epoch: 151loss: tensor(0.9203)\n",
            "epoch: 152loss: tensor(0.9205)\n",
            "epoch: 153loss: tensor(0.9193)\n",
            "epoch: 154loss: tensor(0.9205)\n",
            "epoch: 155loss: tensor(0.9196)\n",
            "epoch: 156loss: tensor(0.9199)\n",
            "epoch: 157loss: tensor(0.9189)\n",
            "epoch: 158loss: tensor(0.9195)\n",
            "epoch: 159loss: tensor(0.9185)\n",
            "epoch: 160loss: tensor(0.9190)\n",
            "epoch: 161loss: tensor(0.9183)\n",
            "epoch: 162loss: tensor(0.9185)\n",
            "epoch: 163loss: tensor(0.9176)\n",
            "epoch: 164loss: tensor(0.9182)\n",
            "epoch: 165loss: tensor(0.9176)\n",
            "epoch: 166loss: tensor(0.9177)\n",
            "epoch: 167loss: tensor(0.9171)\n",
            "epoch: 168loss: tensor(0.9175)\n",
            "epoch: 169loss: tensor(0.9168)\n",
            "epoch: 170loss: tensor(0.9177)\n",
            "epoch: 171loss: tensor(0.9164)\n",
            "epoch: 172loss: tensor(0.9169)\n",
            "epoch: 173loss: tensor(0.9161)\n",
            "epoch: 174loss: tensor(0.9166)\n",
            "epoch: 175loss: tensor(0.9157)\n",
            "epoch: 176loss: tensor(0.9163)\n",
            "epoch: 177loss: tensor(0.9153)\n",
            "epoch: 178loss: tensor(0.9158)\n",
            "epoch: 179loss: tensor(0.9146)\n",
            "epoch: 180loss: tensor(0.9155)\n",
            "epoch: 181loss: tensor(0.9146)\n",
            "epoch: 182loss: tensor(0.9152)\n",
            "epoch: 183loss: tensor(0.9144)\n",
            "epoch: 184loss: tensor(0.9152)\n",
            "epoch: 185loss: tensor(0.9143)\n",
            "epoch: 186loss: tensor(0.9147)\n",
            "epoch: 187loss: tensor(0.9138)\n",
            "epoch: 188loss: tensor(0.9144)\n",
            "epoch: 189loss: tensor(0.9136)\n",
            "epoch: 190loss: tensor(0.9142)\n",
            "epoch: 191loss: tensor(0.9133)\n",
            "epoch: 192loss: tensor(0.9138)\n",
            "epoch: 193loss: tensor(0.9133)\n",
            "epoch: 194loss: tensor(0.9138)\n",
            "epoch: 195loss: tensor(0.9130)\n",
            "epoch: 196loss: tensor(0.9136)\n",
            "epoch: 197loss: tensor(0.9129)\n",
            "epoch: 198loss: tensor(0.9133)\n",
            "epoch: 199loss: tensor(0.9127)\n",
            "epoch: 200loss: tensor(0.9132)\n"
          ],
          "name": "stdout"
        }
      ]
    },
    {
      "cell_type": "code",
      "metadata": {
        "colab": {
          "base_uri": "https://localhost:8080/"
        },
        "id": "-3LVHmTGEvVI",
        "outputId": "c983f47f-9ca9-4fb8-d215-6546586985f4"
      },
      "source": [
        "\"\"\"## Testing the SAE\"\"\"\n",
        "\n",
        "test_loss = 0\n",
        "s = 0.\n",
        "for id_user in range(nb_users):\n",
        "  input = Variable(training_set[id_user]).unsqueeze(0)\n",
        "  target = Variable(test_set[id_user]).unsqueeze(0)\n",
        "  if torch.sum(target.data > 0) > 0:\n",
        "    output = sae(input)\n",
        "    target.require_grad = False\n",
        "    output[target == 0] = 0\n",
        "    loss = criterion(output, target)\n",
        "    mean_corrector = nb_movies/float(torch.sum(target.data > 0) + 1e-10)\n",
        "    test_loss += np.sqrt(loss.data*mean_corrector)\n",
        "    s += 1.\n",
        "print('test loss: '+str(test_loss/s))"
      ],
      "execution_count": null,
      "outputs": [
        {
          "output_type": "stream",
          "text": [
            "test loss: tensor(0.9532)\n"
          ],
          "name": "stdout"
        }
      ]
    }
  ]
}